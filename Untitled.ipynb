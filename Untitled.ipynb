{
 "cells": [
  {
   "cell_type": "code",
   "execution_count": 2,
   "metadata": {},
   "outputs": [
    {
     "name": "stdout",
     "output_type": "stream",
     "text": [
      "(194, 259, 3)\n"
     ]
    },
    {
     "data": {
      "text/plain": [
       "-1"
      ]
     },
     "execution_count": 2,
     "metadata": {},
     "output_type": "execute_result"
    }
   ],
   "source": [
    "import cv2 as cv\n",
    "import numpy as np\n",
    "img = cv.imread(\"Moss.jpg\")\n",
    "print(img.shape)\n",
    "kernel = np.ones((5,5), np.uint8)\n",
    "gray = cv.cvtColor(img, cv.COLOR_BGR2GRAY)\n",
    "blur = cv.GaussianBlur(gray, (5,5), 0)\n",
    "canny = cv.Canny(blur, 50,150)\n",
    "dilation = cv.dilate(canny, kernel, iterations = 1)\n",
    "erode = cv.erode(dilation, kernel, iterations = 1)\n",
    "#cv.imshow(\"image\", canny)\n",
    "cv.imshow(\"img\", img)\n",
    "cv.imshow(\"dilation\", dilation)\n",
    "cv.imshow(\"erode\", erode)\n",
    "cv.waitKey(0)"
   ]
  },
  {
   "cell_type": "code",
   "execution_count": 4,
   "metadata": {},
   "outputs": [
    {
     "data": {
      "text/plain": [
       "-1"
      ]
     },
     "execution_count": 4,
     "metadata": {},
     "output_type": "execute_result"
    }
   ],
   "source": [
    "crop = img[0:100, 100:200]\n",
    "cv.imshow(\"img\", crop)\n",
    "cv.waitKey(0)"
   ]
  },
  {
   "cell_type": "code",
   "execution_count": 5,
   "metadata": {},
   "outputs": [
    {
     "data": {
      "image/png": "[encoded data removed]",
      "text/plain": [
       "<Figure size 432x288 with 1 Axes>"
      ]
     },
     "metadata": {
      "needs_background": "light"
     },
     "output_type": "display_data"
    }
   ],
   "source": [
    "import cv2\n",
    "import numpy as np\n",
    "from matplotlib import pyplot as plt\n",
    "\n",
    "img = cv2.imread('Moss.jpg')\n",
    "color = ('b','g','r')\n",
    "for i,col in enumerate(color):\n",
    "     histr = cv2.calcHist([img],[i],None,[256],[0,256])\n",
    "     plt.plot(histr,color = col)\n",
    "     plt.xlim([0,256])\n",
    "plt.show()"
   ]
  },
  {
   "cell_type": "code",
   "execution_count": 6,
   "metadata": {},
   "outputs": [],
   "source": [
    "import cv2 as cv\n",
    "import numpy as np"
   ]
  },
  {
   "cell_type": "code",
   "execution_count": 21,
   "metadata": {},
   "outputs": [
    {
     "data": {
      "text/plain": [
       "-1"
      ]
     },
     "execution_count": 21,
     "metadata": {},
     "output_type": "execute_result"
    }
   ],
   "source": [
    "img = np.zeros((512,512,3), np.uint8)\n",
    "#img[100:200, 200:300] = 255,0,0\n",
    "cv.line(img, (0,0), (img.shape[1],img.shape[0]), (0,255,0), 3)\n",
    "cv.rectangle(img, (0,0), (250,350), (0,0,255), cv.FILLED)\n",
    "cv.circle(img, (40,250), 30, (255,255,0), 10)\n",
    "cv.imshow(\"image\",img)\n",
    "cv.waitKey(0)"
   ]
  },
  {
   "cell_type": "code",
   "execution_count": 22,
   "metadata": {},
   "outputs": [
    {
     "data": {
      "text/plain": [
       "-1"
      ]
     },
     "execution_count": 22,
     "metadata": {},
     "output_type": "execute_result"
    }
   ],
   "source": [
    "img = cv.imread(\"moss.jpg\")\n",
    "hsv = cv.cvtColor(img, cv.COLOR_BGR2HSV)\n",
    "cv.imshow(\"hue\", hsv)\n",
    "cv.waitKey(0)"
   ]
  },
  {
   "cell_type": "code",
   "execution_count": 23,
   "metadata": {},
   "outputs": [
    {
     "name": "stdout",
     "output_type": "stream",
     "text": [
      "The number of brown pixels is: 0\n"
     ]
    },
    {
     "data": {
      "text/plain": [
       "-1"
      ]
     },
     "execution_count": 23,
     "metadata": {},
     "output_type": "execute_result"
    }
   ],
   "source": [
    "import cv2\n",
    "import numpy as np\n",
    "\n",
    "img = cv2.imread(\"moss.jpg\")\n",
    "# minimum value of brown pixel in BGR order -> burleywood\n",
    "BROWN_MIN = np.array([135, 184, 222], np.uint8)\n",
    "# maximum value of brown pixel in BGR order -> brown\n",
    "BROWN_MAX = np.array([42, 42, 65], np.uint8)\n",
    "\n",
    "dst = cv2.inRange(img, BROWN_MIN, BROWN_MAX)\n",
    "no_brown = cv2.countNonZero(dst)\n",
    "print('The number of brown pixels is: ' + str(no_brown))\n",
    "cv2.namedWindow(\"opencv\")\n",
    "cv2.imshow(\"opencv\",img)\n",
    "cv2.waitKey(0)"
   ]
  },
  {
   "cell_type": "code",
   "execution_count": 24,
   "metadata": {},
   "outputs": [
    {
     "name": "stdout",
     "output_type": "stream",
     "text": [
      "The number of blue pixels is: 0\n"
     ]
    },
    {
     "data": {
      "text/plain": [
       "-1"
      ]
     },
     "execution_count": 24,
     "metadata": {},
     "output_type": "execute_result"
    }
   ],
   "source": [
    "import cv2\n",
    "import numpy as np\n",
    "\n",
    "img = cv2.imread(\"moss.jpg\")\n",
    "BLUE_MIN = np.array([0, 0, 200], np.uint8)\n",
    "BLUE_MAX = np.array([255, 50, 50], np.uint8)\n",
    "\n",
    "dst = cv2.inRange(img, BLUE_MIN, BLUE_MAX)\n",
    "no_blue = cv2.countNonZero(dst)\n",
    "print('The number of blue pixels is: ' + str(no_blue))\n",
    "cv2.namedWindow(\"opencv\")\n",
    "cv2.imshow(\"opencv\",img)\n",
    "cv2.waitKey(0)"
   ]
  },
  {
   "cell_type": "code",
   "execution_count": null,
   "metadata": {},
   "outputs": [],
   "source": [
    "import cv2 as cv\n",
    "import numpy as np"
   ]
  },
  {
   "cell_type": "code",
   "execution_count": null,
   "metadata": {},
   "outputs": [],
   "source": [
    "def empty(a):\n",
    "    pass\n",
    "\n",
    "cv.namedWindow(\"TrackBars\")\n",
    "cv.resizeWindow(\"TrackBars\",640,240)\n",
    "cv.createTrackbar(\"Hue Min\", \" TrackBars\",0,179,empty)\n",
    "cv.createTrackbar(\"Hue Max\", \" TrackBars\",179,179,empty)\n",
    "cv.createTrackbar(\"sat Min\", \" TrackBars\",0,255,empty)\n",
    "cv.createTrackbar(\"sat Max\", \" TrackBars\",255,255,empty)\n",
    "cv.createTrackbar(\"Val Min\", \" TrackBars\",0,255,empty)\n",
    "cv.createTrackbar(\"Val Max\", \" TrackBars\",255,255,empty)\n",
    "while True:\n",
    "    img = cv.imread(\"MOSS1.jpg\")\n",
    "    hsv = cv.cvtColor(img, cv.COLOR_BGR2HSV)\n",
    "    h_min = cv.getTrackbarPos(\"Hue Min\",\"TrackBars\")\n",
    "    print(h_min)\n",
    "    cv.imshow(\"image\", hsv)\n",
    "    cv.imshow(\"img\", img)\n",
    "    cv.waitKey(0)"
   ]
  },
  {
   "cell_type": "code",
   "execution_count": 1,
   "metadata": {},
   "outputs": [
    {
     "ename": "error",
     "evalue": "OpenCV(4.5.1) C:\\Users\\appveyor\\AppData\\Local\\Temp\\1\\pip-req-build-i1s8y2i1\\opencv\\modules\\imgproc\\src\\color.cpp:182: error: (-215:Assertion failed) !_src.empty() in function 'cv::cvtColor'\n",
     "output_type": "error",
     "traceback": [
      "\u001b[1;31m---------------------------------------------------------------------------\u001b[0m",
      "\u001b[1;31merror\u001b[0m                                     Traceback (most recent call last)",
      "\u001b[1;32m<ipython-input-1-23a92a2dc004>\u001b[0m in \u001b[0;36m<module>\u001b[1;34m\u001b[0m\n\u001b[0;32m     43\u001b[0m     \u001b[0mimg\u001b[0m\u001b[1;33m=\u001b[0m\u001b[0mcv\u001b[0m\u001b[1;33m.\u001b[0m\u001b[0mimread\u001b[0m\u001b[1;33m(\u001b[0m\u001b[1;34m\"MOSS1.jpg\"\u001b[0m\u001b[1;33m)\u001b[0m\u001b[1;33m\u001b[0m\u001b[1;33m\u001b[0m\u001b[0m\n\u001b[0;32m     44\u001b[0m     \u001b[1;31m#convert sourece image to HSC color mode\u001b[0m\u001b[1;33m\u001b[0m\u001b[1;33m\u001b[0m\u001b[1;33m\u001b[0m\u001b[0m\n\u001b[1;32m---> 45\u001b[1;33m     \u001b[0mhsv\u001b[0m \u001b[1;33m=\u001b[0m \u001b[0mcv\u001b[0m\u001b[1;33m.\u001b[0m\u001b[0mcvtColor\u001b[0m\u001b[1;33m(\u001b[0m\u001b[0mimg\u001b[0m\u001b[1;33m,\u001b[0m \u001b[0mcv\u001b[0m\u001b[1;33m.\u001b[0m\u001b[0mCOLOR_BGR2HSV\u001b[0m\u001b[1;33m)\u001b[0m\u001b[1;33m\u001b[0m\u001b[1;33m\u001b[0m\u001b[0m\n\u001b[0m\u001b[0;32m     46\u001b[0m \u001b[1;33m\u001b[0m\u001b[0m\n\u001b[0;32m     47\u001b[0m     \u001b[1;31m#\u001b[0m\u001b[1;33m\u001b[0m\u001b[1;33m\u001b[0m\u001b[1;33m\u001b[0m\u001b[0m\n",
      "\u001b[1;31merror\u001b[0m: OpenCV(4.5.1) C:\\Users\\appveyor\\AppData\\Local\\Temp\\1\\pip-req-build-i1s8y2i1\\opencv\\modules\\imgproc\\src\\color.cpp:182: error: (-215:Assertion failed) !_src.empty() in function 'cv::cvtColor'\n"
     ]
    }
   ],
   "source": [
    "#import opencv and numpy\n",
    "import cv2 as cv\n",
    "import numpy as np\n",
    "\n",
    "#trackbar callback fucntion to update HSV value\n",
    "def callback(x):\n",
    "    global H_low,H_high,S_low,S_high,V_low,V_high\n",
    "    #assign trackbar position value to H,S,V High and low variable\n",
    "    H_low = cv.getTrackbarPos('low H','controls')\n",
    "    H_high = cv.getTrackbarPos('high H','controls')\n",
    "    S_low = cv.getTrackbarPos('low S','controls')\n",
    "    S_high = cv.getTrackbarPos('high S','controls')\n",
    "    V_low = cv.getTrackbarPos('low V','controls')\n",
    "    V_high = cv.getTrackbarPos('high V','controls')\n",
    "\n",
    "\n",
    "#create a seperate window named 'controls' for trackbar\n",
    "cv.namedWindow('controls',2)\n",
    "cv.resizeWindow(\"controls\", 550,10);\n",
    "\n",
    "\n",
    "#global variable\n",
    "H_low = 0\n",
    "H_high = 179\n",
    "S_low= 0\n",
    "S_high = 255\n",
    "V_low= 0\n",
    "V_high = 255\n",
    "\n",
    "#create trackbars for high,low H,S,V \n",
    "cv.createTrackbar('low H','controls',0,179,callback)\n",
    "cv.createTrackbar('high H','controls',179,179,callback)\n",
    "\n",
    "cv.createTrackbar('low S','controls',0,255,callback)\n",
    "cv.createTrackbar('high S','controls',255,255,callback)\n",
    "\n",
    "cv.createTrackbar('low V','controls',0,255,callback)\n",
    "cv.createTrackbar('high V','controls',255,255,callback)\n",
    "\n",
    "\n",
    "while(1):\n",
    "    #read source image\n",
    "    img=cv.imread(\"MOSS1.jpg\")\n",
    "    #convert sourece image to HSC color mode\n",
    "    hsv = cv.cvtColor(img, cv.COLOR_BGR2HSV)\n",
    "\n",
    "    #\n",
    "    hsv_low = np.array([H_low, S_low, V_low], np.uint8)\n",
    "    hsv_high = np.array([H_high, S_high, V_high], np.uint8)\n",
    "\n",
    "    #making mask for hsv range\n",
    "    mask = cv.inRange(hsv, hsv_low, hsv_high)\n",
    "    #masking HSV value selected color becomes black\n",
    "    res = cv.bitwise_and(img, img, mask=mask)\n",
    "\n",
    "\n",
    "\n",
    "    #show image\n",
    "    cv.imshow('mask',mask)\n",
    "    cv.imshow('res',res)\n",
    "    \n",
    "    #waitfor the user to press escape and break the while loop \n",
    "    k = cv2.waitKey(1) & 0xFF\n",
    "    if k == 27:\n",
    "        break\n",
    "\n",
    "#destroys all window\n",
    "cv.destroyAllWindows()"
   ]
  },
  {
   "cell_type": "code",
   "execution_count": null,
   "metadata": {},
   "outputs": [],
   "source": []
  },
  {
   "cell_type": "code",
   "execution_count": 5,
   "metadata": {},
   "outputs": [
    {
     "name": "stdout",
     "output_type": "stream",
     "text": [
      "The number of Green pixels is: 3950\n"
     ]
    },
    {
     "data": {
      "text/plain": [
       "-1"
      ]
     },
     "execution_count": 5,
     "metadata": {},
     "output_type": "execute_result"
    }
   ],
   "source": []
  },
  {
   "cell_type": "code",
   "execution_count": 1,
   "metadata": {},
   "outputs": [
    {
     "name": "stderr",
     "output_type": "stream",
     "text": [
      "E:\\Anaconda\\lib\\site-packages\\numpy\\lib\\function_base.py:380: RuntimeWarning: Mean of empty slice.\n",
      "  avg = a.mean(axis)\n",
      "E:\\Anaconda\\lib\\site-packages\\numpy\\core\\_methods.py:170: RuntimeWarning: invalid value encountered in double_scalars\n",
      "  ret = ret.dtype.type(ret / rcount)\n"
     ]
    },
    {
     "ename": "TypeError",
     "evalue": "cannot unpack non-iterable numpy.float64 object",
     "output_type": "error",
     "traceback": [
      "\u001b[1;31m---------------------------------------------------------------------------\u001b[0m",
      "\u001b[1;31mTypeError\u001b[0m                                 Traceback (most recent call last)",
      "\u001b[1;32m<ipython-input-1-00e0c0cd9374>\u001b[0m in \u001b[0;36m<module>\u001b[1;34m\u001b[0m\n\u001b[0;32m     59\u001b[0m     \u001b[0mroi_detected_image\u001b[0m \u001b[1;33m=\u001b[0m \u001b[0mregion_of_interest\u001b[0m\u001b[1;33m(\u001b[0m\u001b[0medge_detected_image\u001b[0m\u001b[1;33m)\u001b[0m\u001b[1;33m\u001b[0m\u001b[1;33m\u001b[0m\u001b[0m\n\u001b[0;32m     60\u001b[0m     \u001b[0mlines\u001b[0m \u001b[1;33m=\u001b[0m \u001b[0mcv\u001b[0m\u001b[1;33m.\u001b[0m\u001b[0mHoughLinesP\u001b[0m\u001b[1;33m(\u001b[0m\u001b[0mroi_detected_image\u001b[0m\u001b[1;33m,\u001b[0m \u001b[1;36m2\u001b[0m\u001b[1;33m,\u001b[0m \u001b[0mnp\u001b[0m\u001b[1;33m.\u001b[0m\u001b[0mpi\u001b[0m\u001b[1;33m/\u001b[0m\u001b[1;36m180\u001b[0m\u001b[1;33m,\u001b[0m \u001b[1;36m100\u001b[0m\u001b[1;33m,\u001b[0m \u001b[0mnp\u001b[0m\u001b[1;33m.\u001b[0m\u001b[0marray\u001b[0m\u001b[1;33m(\u001b[0m\u001b[1;33m[\u001b[0m\u001b[1;33m]\u001b[0m\u001b[1;33m)\u001b[0m\u001b[1;33m,\u001b[0m \u001b[0mminLineLength\u001b[0m\u001b[1;33m=\u001b[0m\u001b[1;36m40\u001b[0m\u001b[1;33m,\u001b[0m \u001b[0mmaxLineGap\u001b[0m\u001b[1;33m=\u001b[0m\u001b[1;36m5\u001b[0m\u001b[1;33m)\u001b[0m\u001b[1;33m\u001b[0m\u001b[1;33m\u001b[0m\u001b[0m\n\u001b[1;32m---> 61\u001b[1;33m     \u001b[0maveraged_lines\u001b[0m \u001b[1;33m=\u001b[0m \u001b[0maverage_slope_intercept\u001b[0m\u001b[1;33m(\u001b[0m\u001b[0mframe\u001b[0m\u001b[1;33m,\u001b[0m\u001b[0mlines\u001b[0m\u001b[1;33m)\u001b[0m\u001b[1;33m\u001b[0m\u001b[1;33m\u001b[0m\u001b[0m\n\u001b[0m\u001b[0;32m     62\u001b[0m     \u001b[0mlined_image\u001b[0m\u001b[1;33m=\u001b[0m\u001b[0mdisplay_lines\u001b[0m\u001b[1;33m(\u001b[0m\u001b[0mframe\u001b[0m\u001b[1;33m,\u001b[0m\u001b[0maveraged_lines\u001b[0m\u001b[1;33m)\u001b[0m\u001b[1;33m\u001b[0m\u001b[1;33m\u001b[0m\u001b[0m\n\u001b[0;32m     63\u001b[0m     \u001b[0mcombo_image\u001b[0m \u001b[1;33m=\u001b[0m \u001b[0mcv\u001b[0m\u001b[1;33m.\u001b[0m\u001b[0maddWeighted\u001b[0m\u001b[1;33m(\u001b[0m\u001b[0mframe\u001b[0m\u001b[1;33m,\u001b[0m\u001b[1;36m0.5\u001b[0m\u001b[1;33m,\u001b[0m\u001b[0mlined_image\u001b[0m\u001b[1;33m,\u001b[0m\u001b[1;36m1\u001b[0m\u001b[1;33m,\u001b[0m\u001b[1;36m2\u001b[0m\u001b[1;33m)\u001b[0m\u001b[1;33m\u001b[0m\u001b[1;33m\u001b[0m\u001b[0m\n",
      "\u001b[1;32m<ipython-input-1-00e0c0cd9374>\u001b[0m in \u001b[0;36maverage_slope_intercept\u001b[1;34m(image, lines)\u001b[0m\n\u001b[0;32m     35\u001b[0m     \u001b[0mleft_fit_average\u001b[0m \u001b[1;33m=\u001b[0m \u001b[0mnp\u001b[0m\u001b[1;33m.\u001b[0m\u001b[0maverage\u001b[0m\u001b[1;33m(\u001b[0m\u001b[0mleft_fit\u001b[0m\u001b[1;33m,\u001b[0m\u001b[0maxis\u001b[0m \u001b[1;33m=\u001b[0m \u001b[1;36m0\u001b[0m\u001b[1;33m)\u001b[0m\u001b[1;33m\u001b[0m\u001b[1;33m\u001b[0m\u001b[0m\n\u001b[0;32m     36\u001b[0m     \u001b[0mright_fit_average\u001b[0m \u001b[1;33m=\u001b[0m \u001b[0mnp\u001b[0m\u001b[1;33m.\u001b[0m\u001b[0maverage\u001b[0m\u001b[1;33m(\u001b[0m\u001b[0mright_fit\u001b[0m\u001b[1;33m,\u001b[0m\u001b[0maxis\u001b[0m \u001b[1;33m=\u001b[0m \u001b[1;36m0\u001b[0m\u001b[1;33m)\u001b[0m\u001b[1;33m\u001b[0m\u001b[1;33m\u001b[0m\u001b[0m\n\u001b[1;32m---> 37\u001b[1;33m     \u001b[0mleft_line\u001b[0m \u001b[1;33m=\u001b[0m \u001b[0mmake_coordinates\u001b[0m\u001b[1;33m(\u001b[0m\u001b[0mimage\u001b[0m\u001b[1;33m,\u001b[0m\u001b[0mleft_fit_average\u001b[0m\u001b[1;33m)\u001b[0m\u001b[1;33m\u001b[0m\u001b[1;33m\u001b[0m\u001b[0m\n\u001b[0m\u001b[0;32m     38\u001b[0m     \u001b[0mright_line\u001b[0m \u001b[1;33m=\u001b[0m \u001b[0mmake_coordinates\u001b[0m\u001b[1;33m(\u001b[0m\u001b[0mimage\u001b[0m\u001b[1;33m,\u001b[0m\u001b[0mright_fit_average\u001b[0m\u001b[1;33m)\u001b[0m\u001b[1;33m\u001b[0m\u001b[1;33m\u001b[0m\u001b[0m\n\u001b[0;32m     39\u001b[0m     \u001b[1;32mreturn\u001b[0m \u001b[0mnp\u001b[0m\u001b[1;33m.\u001b[0m\u001b[0marray\u001b[0m\u001b[1;33m(\u001b[0m\u001b[1;33m[\u001b[0m\u001b[0mleft_line\u001b[0m\u001b[1;33m,\u001b[0m\u001b[0mright_line\u001b[0m\u001b[1;33m]\u001b[0m\u001b[1;33m)\u001b[0m\u001b[1;33m\u001b[0m\u001b[1;33m\u001b[0m\u001b[0m\n",
      "\u001b[1;32m<ipython-input-1-00e0c0cd9374>\u001b[0m in \u001b[0;36mmake_coordinates\u001b[1;34m(image, line_parameters)\u001b[0m\n\u001b[0;32m     39\u001b[0m     \u001b[1;32mreturn\u001b[0m \u001b[0mnp\u001b[0m\u001b[1;33m.\u001b[0m\u001b[0marray\u001b[0m\u001b[1;33m(\u001b[0m\u001b[1;33m[\u001b[0m\u001b[0mleft_line\u001b[0m\u001b[1;33m,\u001b[0m\u001b[0mright_line\u001b[0m\u001b[1;33m]\u001b[0m\u001b[1;33m)\u001b[0m\u001b[1;33m\u001b[0m\u001b[1;33m\u001b[0m\u001b[0m\n\u001b[0;32m     40\u001b[0m \u001b[1;32mdef\u001b[0m \u001b[0mmake_coordinates\u001b[0m\u001b[1;33m(\u001b[0m\u001b[0mimage\u001b[0m\u001b[1;33m,\u001b[0m\u001b[0mline_parameters\u001b[0m\u001b[1;33m)\u001b[0m\u001b[1;33m:\u001b[0m\u001b[1;33m\u001b[0m\u001b[1;33m\u001b[0m\u001b[0m\n\u001b[1;32m---> 41\u001b[1;33m     \u001b[0mslope\u001b[0m\u001b[1;33m,\u001b[0m \u001b[0mintercept\u001b[0m \u001b[1;33m=\u001b[0m \u001b[0mline_parameters\u001b[0m\u001b[1;33m\u001b[0m\u001b[1;33m\u001b[0m\u001b[0m\n\u001b[0m\u001b[0;32m     42\u001b[0m     \u001b[0my1\u001b[0m \u001b[1;33m=\u001b[0m \u001b[0mimage\u001b[0m\u001b[1;33m.\u001b[0m\u001b[0mshape\u001b[0m\u001b[1;33m[\u001b[0m\u001b[1;36m0\u001b[0m\u001b[1;33m]\u001b[0m\u001b[1;33m\u001b[0m\u001b[1;33m\u001b[0m\u001b[0m\n\u001b[0;32m     43\u001b[0m     \u001b[0my2\u001b[0m \u001b[1;33m=\u001b[0m \u001b[0mint\u001b[0m\u001b[1;33m(\u001b[0m\u001b[0my1\u001b[0m\u001b[1;33m*\u001b[0m\u001b[1;33m(\u001b[0m\u001b[1;36m3\u001b[0m\u001b[1;33m/\u001b[0m\u001b[1;36m5\u001b[0m\u001b[1;33m)\u001b[0m\u001b[1;33m)\u001b[0m\u001b[1;33m\u001b[0m\u001b[1;33m\u001b[0m\u001b[0m\n",
      "\u001b[1;31mTypeError\u001b[0m: cannot unpack non-iterable numpy.float64 object"
     ]
    }
   ],
   "source": [
    "import cv2 as cv\n",
    "import numpy as np\n",
    "#import matplotlib.pyplot as plt\n",
    "#image = cv.imread('test_image.jpg')\n",
    "def canny(image):\n",
    "    gray = cv.cvtColor(image, cv.COLOR_RGB2GRAY)\n",
    "    blur = cv.GaussianBlur(gray, (5,5),0)\n",
    "    canny = cv.Canny(blur, 50, 150)\n",
    "    return canny\n",
    "def region_of_interest(image):\n",
    "    height = image.shape[0]\n",
    "    polygons = np.array([[(200,height), (1100,height), (550,250)]])\n",
    "    mask = np.zeros_like(image)\n",
    "    cv.fillPoly(mask,polygons,255)\n",
    "    masked_image = cv.bitwise_and(image,mask)\n",
    "    return masked_image\n",
    "def display_lines(image,lines):\n",
    "    line_image = np.zeros_like(image)\n",
    "    for line in lines:\n",
    "        x1,y1,x2,y2 = line.reshape(4)\n",
    "        cv.line(line_image,(x1,y1),(x2,y2),(255,0,0),10)\n",
    "    return line_image\n",
    "def average_slope_intercept(image,lines):\n",
    "    left_fit = []\n",
    "    right_fit = []\n",
    "    for line in lines:\n",
    "        x1,y1,x2,y2 = line.reshape(4)\n",
    "        parametrs = np.polyfit((x1,x2),(y1,y2),1)\n",
    "        slope = parametrs[0]\n",
    "        intercept = parametrs[1]\n",
    "        if slope<0:\n",
    "            left_fit.append((slope,intercept))\n",
    "        else:\n",
    "            right_fit.append((slope,intercept))\n",
    "    left_fit_average = np.average(left_fit,axis = 0)\n",
    "    right_fit_average = np.average(right_fit,axis = 0)\n",
    "    left_line = make_coordinates(image,left_fit_average)\n",
    "    right_line = make_coordinates(image,right_fit_average)\n",
    "    return np.array([left_line,right_line])\n",
    "def make_coordinates(image,line_parameters):\n",
    "    slope, intercept = line_parameters\n",
    "    y1 = image.shape[0]\n",
    "    y2 = int(y1*(3/5))\n",
    "    x1 = int((y1-intercept)/slope)\n",
    "    x2 = int((y2-intercept)/slope)\n",
    "    return np.array([x1,y1,x2,y2])\n",
    "#lane_image = np.copy(image)\n",
    "#edge_detected_image = canny(lane_image)\n",
    "#lines = cv.HoughLinesP(roi_detected_image, 2, np.pi/180, 100, np.array([]), minLineLength=40, maxLineGap=5)\n",
    "#averaged_lines = average_slope_intercept(lane_image,lines)\n",
    "#lined_image=display_lines(lane_image,averaged_lines)\n",
    "#combo_image = cv.addWeighted(lane_image,0.5,lined_image,1,2)\n",
    "#cv.imshow('result', combo_image)\n",
    "#cv.waitKey(0)\n",
    "cap = cv.VideoCapture(\"test2.mp4\")\n",
    "while (cap.isOpened()):\n",
    "    _,frame = cap.read()\n",
    "    edge_detected_image = canny(frame)\n",
    "    roi_detected_image = region_of_interest(edge_detected_image)\n",
    "    lines = cv.HoughLinesP(roi_detected_image, 2, np.pi/180, 100, np.array([]), minLineLength=40, maxLineGap=5)\n",
    "    averaged_lines = average_slope_intercept(frame,lines)\n",
    "    lined_image=display_lines(frame,averaged_lines)\n",
    "    combo_image = cv.addWeighted(frame,0.5,lined_image,1,2)\n",
    "    cv.imshow('result', combo_image)\n",
    "    if cv.waitKey(1) & 0XFF == ord('q'):\n",
    "        break\n",
    "cap.release()\n",
    "cv.destroyAllWidows()\n",
    "#plt.imshow(canny)\n",
    "#plt.show()"
   ]
  },
  {
   "cell_type": "code",
   "execution_count": null,
   "metadata": {},
   "outputs": [],
   "source": []
  }
 ],
 "metadata": {
  "kernelspec": {
   "display_name": "Python 3",
   "language": "python",
   "name": "python3"
  },
  "language_info": {
   "codemirror_mode": {
    "name": "ipython",
    "version": 3
   },
   "file_extension": ".py",
   "mimetype": "text/x-python",
   "name": "python",
   "nbconvert_exporter": "python",
   "pygments_lexer": "ipython3",
   "version": "3.8.5"
  }
 },
 "nbformat": 4,
 "nbformat_minor": 4
}
